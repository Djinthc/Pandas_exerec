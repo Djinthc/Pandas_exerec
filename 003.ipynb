{
 "cells": [
  {
   "cell_type": "code",
   "execution_count": 1,
   "metadata": {},
   "outputs": [],
   "source": [
    "import pandas as pd\n",
    "import numpy as np"
   ]
  },
  {
   "cell_type": "code",
   "execution_count": 2,
   "metadata": {},
   "outputs": [],
   "source": [
    "# The google.csv file is attached to this exercise. Load this file into DataFrame using pandas and assign it to the google variable.\n",
    "# In response, print google variable to the console.\n",
    "\n",
    "google = pd.read_csv('google.csv')\n"
   ]
  },
  {
   "cell_type": "code",
   "execution_count": 4,
   "metadata": {},
   "outputs": [
    {
     "name": "stdout",
     "output_type": "stream",
     "text": [
      "<class 'pandas.core.frame.DataFrame'>\n",
      "RangeIndex: 30 entries, 0 to 29\n",
      "Data columns (total 6 columns):\n",
      " #   Column  Non-Null Count  Dtype  \n",
      "---  ------  --------------  -----  \n",
      " 0   Date    30 non-null     object \n",
      " 1   Open    30 non-null     float64\n",
      " 2   High    30 non-null     float64\n",
      " 3   Low     30 non-null     float64\n",
      " 4   Close   30 non-null     float64\n",
      " 5   Volume  30 non-null     int64  \n",
      "dtypes: float64(4), int64(1), object(1)\n",
      "memory usage: 1.5+ KB\n",
      "\n"
     ]
    },
    {
     "data": {
      "text/html": [
       "<div>\n",
       "<style scoped>\n",
       "    .dataframe tbody tr th:only-of-type {\n",
       "        vertical-align: middle;\n",
       "    }\n",
       "\n",
       "    .dataframe tbody tr th {\n",
       "        vertical-align: top;\n",
       "    }\n",
       "\n",
       "    .dataframe thead th {\n",
       "        text-align: right;\n",
       "    }\n",
       "</style>\n",
       "<table border=\"1\" class=\"dataframe\">\n",
       "  <thead>\n",
       "    <tr style=\"text-align: right;\">\n",
       "      <th></th>\n",
       "      <th>Open</th>\n",
       "      <th>High</th>\n",
       "      <th>Low</th>\n",
       "      <th>Close</th>\n",
       "      <th>Volume</th>\n",
       "    </tr>\n",
       "  </thead>\n",
       "  <tbody>\n",
       "    <tr>\n",
       "      <th>count</th>\n",
       "      <td>30.000000</td>\n",
       "      <td>30.000000</td>\n",
       "      <td>30.000000</td>\n",
       "      <td>30.000000</td>\n",
       "      <td>3.000000e+01</td>\n",
       "    </tr>\n",
       "    <tr>\n",
       "      <th>mean</th>\n",
       "      <td>1428.889000</td>\n",
       "      <td>1445.470440</td>\n",
       "      <td>1412.767923</td>\n",
       "      <td>1430.681000</td>\n",
       "      <td>1.869471e+06</td>\n",
       "    </tr>\n",
       "    <tr>\n",
       "      <th>std</th>\n",
       "      <td>22.943586</td>\n",
       "      <td>19.462454</td>\n",
       "      <td>24.728358</td>\n",
       "      <td>22.717075</td>\n",
       "      <td>7.014872e+05</td>\n",
       "    </tr>\n",
       "    <tr>\n",
       "      <th>min</th>\n",
       "      <td>1360.340000</td>\n",
       "      <td>1398.000000</td>\n",
       "      <td>1351.650000</td>\n",
       "      <td>1362.540000</td>\n",
       "      <td>1.172069e+06</td>\n",
       "    </tr>\n",
       "    <tr>\n",
       "      <th>25%</th>\n",
       "      <td>1419.377500</td>\n",
       "      <td>1436.802500</td>\n",
       "      <td>1396.565000</td>\n",
       "      <td>1418.097500</td>\n",
       "      <td>1.528364e+06</td>\n",
       "    </tr>\n",
       "    <tr>\n",
       "      <th>50%</th>\n",
       "      <td>1431.925000</td>\n",
       "      <td>1444.805000</td>\n",
       "      <td>1419.095000</td>\n",
       "      <td>1433.820000</td>\n",
       "      <td>1.687518e+06</td>\n",
       "    </tr>\n",
       "    <tr>\n",
       "      <th>75%</th>\n",
       "      <td>1444.605000</td>\n",
       "      <td>1452.628250</td>\n",
       "      <td>1428.301250</td>\n",
       "      <td>1445.430000</td>\n",
       "      <td>2.085423e+06</td>\n",
       "    </tr>\n",
       "    <tr>\n",
       "      <th>max</th>\n",
       "      <td>1463.280000</td>\n",
       "      <td>1488.520000</td>\n",
       "      <td>1454.355000</td>\n",
       "      <td>1469.930000</td>\n",
       "      <td>4.882014e+06</td>\n",
       "    </tr>\n",
       "  </tbody>\n",
       "</table>\n",
       "</div>"
      ],
      "text/plain": [
       "              Open         High          Low        Close        Volume\n",
       "count    30.000000    30.000000    30.000000    30.000000  3.000000e+01\n",
       "mean   1428.889000  1445.470440  1412.767923  1430.681000  1.869471e+06\n",
       "std      22.943586    19.462454    24.728358    22.717075  7.014872e+05\n",
       "min    1360.340000  1398.000000  1351.650000  1362.540000  1.172069e+06\n",
       "25%    1419.377500  1436.802500  1396.565000  1418.097500  1.528364e+06\n",
       "50%    1431.925000  1444.805000  1419.095000  1433.820000  1.687518e+06\n",
       "75%    1444.605000  1452.628250  1428.301250  1445.430000  2.085423e+06\n",
       "max    1463.280000  1488.520000  1454.355000  1469.930000  4.882014e+06"
      ]
     },
     "execution_count": 4,
     "metadata": {},
     "output_type": "execute_result"
    }
   ],
   "source": [
    "# The google.csv file is loaded using pandas. Print basic information about google DataFrame,\n",
    "# then print blank line and print basic statistics for this DataFrame.\n",
    "\n",
    "google.info()\n",
    "print()\n",
    "google.describe()"
   ]
  },
  {
   "cell_type": "code",
   "execution_count": null,
   "metadata": {},
   "outputs": [],
   "source": []
  }
 ],
 "metadata": {
  "kernelspec": {
   "display_name": "Python 3",
   "language": "python",
   "name": "python3"
  },
  "language_info": {
   "codemirror_mode": {
    "name": "ipython",
    "version": 3
   },
   "file_extension": ".py",
   "mimetype": "text/x-python",
   "name": "python",
   "nbconvert_exporter": "python",
   "pygments_lexer": "ipython3",
   "version": "3.10.2"
  },
  "orig_nbformat": 4
 },
 "nbformat": 4,
 "nbformat_minor": 2
}
