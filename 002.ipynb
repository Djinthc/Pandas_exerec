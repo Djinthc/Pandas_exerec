{
 "cells": [
  {
   "cell_type": "code",
   "execution_count": 2,
   "metadata": {},
   "outputs": [],
   "source": [
    "import pandas as pd\n",
    "import numpy as np"
   ]
  },
  {
   "cell_type": "code",
   "execution_count": 4,
   "metadata": {},
   "outputs": [],
   "source": [
    "# Create the DatetimeIndex object containing the yyyy-mm-dd format dates\n",
    "# for all days from January 2020 and assign it to the date_range variable.\n",
    "\n",
    "date_range = pd.date_range('2020-01-01', '2020-01-31', freq= 'D')\n",
    "date_range = pd.DatetimeIndex(date_range)\n"
   ]
  },
  {
   "cell_type": "code",
   "execution_count": 10,
   "metadata": {},
   "outputs": [
    {
     "data": {
      "text/plain": [
       "DatetimeIndex(['2020-01-06', '2020-01-13', '2020-01-20', '2020-01-27',\n",
       "               '2020-02-03', '2020-02-10', '2020-02-17', '2020-02-24',\n",
       "               '2020-03-02', '2020-03-09', '2020-03-16', '2020-03-23',\n",
       "               '2020-03-30', '2020-04-06', '2020-04-13', '2020-04-20',\n",
       "               '2020-04-27', '2020-05-04', '2020-05-11', '2020-05-18',\n",
       "               '2020-05-25', '2020-06-01', '2020-06-08', '2020-06-15',\n",
       "               '2020-06-22', '2020-06-29', '2020-07-06', '2020-07-13',\n",
       "               '2020-07-20', '2020-07-27', '2020-08-03', '2020-08-10',\n",
       "               '2020-08-17', '2020-08-24', '2020-08-31', '2020-09-07',\n",
       "               '2020-09-14', '2020-09-21', '2020-09-28', '2020-10-05',\n",
       "               '2020-10-12', '2020-10-19', '2020-10-26', '2020-11-02',\n",
       "               '2020-11-09', '2020-11-16', '2020-11-23', '2020-11-30',\n",
       "               '2020-12-07', '2020-12-14', '2020-12-21', '2020-12-28'],\n",
       "              dtype='datetime64[ns]', freq='7D')"
      ]
     },
     "execution_count": 10,
     "metadata": {},
     "output_type": "execute_result"
    }
   ],
   "source": [
    "# Create the DatetimeIndex object containing the dates in the yyyy-mm-dd format\n",
    "# for all Mondays from 2020 and assign it to the date_range variable.\n",
    "\n",
    "date_range = pd.date_range('2020-01-06', end = '2020-12-31', freq= '7D')\n",
    "date_range"
   ]
  },
  {
   "cell_type": "code",
   "execution_count": 11,
   "metadata": {},
   "outputs": [
    {
     "data": {
      "text/plain": [
       "DatetimeIndex(['2020-01-06', '2020-01-13', '2020-01-20', '2020-01-27',\n",
       "               '2020-02-03', '2020-02-10', '2020-02-17', '2020-02-24',\n",
       "               '2020-03-02', '2020-03-09', '2020-03-16', '2020-03-23',\n",
       "               '2020-03-30', '2020-04-06', '2020-04-13', '2020-04-20',\n",
       "               '2020-04-27', '2020-05-04', '2020-05-11', '2020-05-18',\n",
       "               '2020-05-25', '2020-06-01', '2020-06-08', '2020-06-15',\n",
       "               '2020-06-22', '2020-06-29', '2020-07-06', '2020-07-13',\n",
       "               '2020-07-20', '2020-07-27', '2020-08-03', '2020-08-10',\n",
       "               '2020-08-17', '2020-08-24', '2020-08-31', '2020-09-07',\n",
       "               '2020-09-14', '2020-09-21', '2020-09-28', '2020-10-05',\n",
       "               '2020-10-12', '2020-10-19', '2020-10-26', '2020-11-02',\n",
       "               '2020-11-09', '2020-11-16', '2020-11-23', '2020-11-30',\n",
       "               '2020-12-07', '2020-12-14', '2020-12-21', '2020-12-28'],\n",
       "              dtype='datetime64[ns]', freq='W-MON')"
      ]
     },
     "execution_count": 11,
     "metadata": {},
     "output_type": "execute_result"
    }
   ],
   "source": [
    "date_range = pd.date_range(start='2020-01-01', periods=52, freq='W-MON')\n",
    "date_range"
   ]
  },
  {
   "cell_type": "code",
   "execution_count": 14,
   "metadata": {},
   "outputs": [
    {
     "data": {
      "text/plain": [
       "DatetimeIndex(['2021-01-01 00:00:00', '2021-01-01 01:00:00',\n",
       "               '2021-01-01 02:00:00', '2021-01-01 03:00:00',\n",
       "               '2021-01-01 04:00:00', '2021-01-01 05:00:00',\n",
       "               '2021-01-01 06:00:00', '2021-01-01 07:00:00',\n",
       "               '2021-01-01 08:00:00', '2021-01-01 09:00:00',\n",
       "               '2021-01-01 10:00:00', '2021-01-01 11:00:00',\n",
       "               '2021-01-01 12:00:00', '2021-01-01 13:00:00',\n",
       "               '2021-01-01 14:00:00', '2021-01-01 15:00:00',\n",
       "               '2021-01-01 16:00:00', '2021-01-01 17:00:00',\n",
       "               '2021-01-01 18:00:00', '2021-01-01 19:00:00',\n",
       "               '2021-01-01 20:00:00', '2021-01-01 21:00:00',\n",
       "               '2021-01-01 22:00:00', '2021-01-01 23:00:00'],\n",
       "              dtype='datetime64[ns]', freq='H')"
      ]
     },
     "execution_count": 14,
     "metadata": {},
     "output_type": "execute_result"
    }
   ],
   "source": [
    "# Create the DatetimeIndex object containing the dates in the format yyyy-mm-dd hh: mm: ss for January 1,\n",
    "# 2021 with a time interval of 1h and assign to the variable date_range.\n",
    "\n",
    "date_range = pd.date_range(start='2021-01-01', periods= 24, freq='H')\n",
    "date_range"
   ]
  },
  {
   "cell_type": "code",
   "execution_count": 56,
   "metadata": {},
   "outputs": [],
   "source": [
    "# Create the following DataFrame object\n",
    "# The day column contains dates from March 1, 2021 to March 31, 2021.\n",
    "# The column day_of_year is the day number of the whole year\n",
    "\n",
    "day = pd.date_range('2021-03-01', '2021-03-31', freq= 'D')\n",
    "\n",
    "day_of_year = [x.timetuple().tm_yday for x in day]\n",
    "\n",
    "df = pd.DataFrame(day, columns= ['day'])\n",
    "\n",
    "df['day_of_year'] = day_of_year\n",
    "\n"
   ]
  },
  {
   "cell_type": "code",
   "execution_count": null,
   "metadata": {},
   "outputs": [],
   "source": [
    "date_range = pd.date_range(start='2021-03-01', periods=31)\n",
    "df = pd.DataFrame(data=date_range, columns=['day'])\n",
    "df['day_of_year'] = df['day'].dt.dayofyear"
   ]
  }
 ],
 "metadata": {
  "kernelspec": {
   "display_name": "Python 3",
   "language": "python",
   "name": "python3"
  },
  "language_info": {
   "codemirror_mode": {
    "name": "ipython",
    "version": 3
   },
   "file_extension": ".py",
   "mimetype": "text/x-python",
   "name": "python",
   "nbconvert_exporter": "python",
   "pygments_lexer": "ipython3",
   "version": "3.10.2"
  },
  "orig_nbformat": 4
 },
 "nbformat": 4,
 "nbformat_minor": 2
}
